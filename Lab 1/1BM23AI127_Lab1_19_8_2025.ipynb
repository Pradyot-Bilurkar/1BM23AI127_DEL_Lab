{
 "cells": [
  {
   "cell_type": "code",
   "execution_count": 16,
   "id": "3183f18b-541a-4645-b13b-ec17147824a4",
   "metadata": {},
   "outputs": [],
   "source": [
    "import numpy as np\n",
    "import matplotlib.pyplot as plt"
   ]
  },
  {
   "cell_type": "code",
   "execution_count": 32,
   "id": "b9a905fe-2741-448e-9e82-686274601550",
   "metadata": {},
   "outputs": [],
   "source": [
    "import numpy as np\n",
    "\n",
    "class Perceptron:\n",
    "    def __init__(self, input_size=1, activation='linear'):\n",
    "        self.weight = np.random.randn(input_size)\n",
    "        self.bias = np.random.randn()\n",
    "\n",
    "        print(\"Random weight used : \", self.weight)\n",
    "        print(\"Random bias used : \", self.bias)\n",
    "        print(\"\")\n",
    "        \n",
    "        if activation == 'linear':\n",
    "            self.activation = self.linear\n",
    "        elif activation == 'sigmoid':\n",
    "            self.activation = self.sigmoid\n",
    "        elif activation == 'tanh':\n",
    "            self.activation = self.tanh\n",
    "        else:\n",
    "            raise ValueError(\"Unsupported activation function\")\n",
    "    \n",
    "    def linear(self, x):\n",
    "        return x\n",
    "    \n",
    "    def sigmoid(self, x):\n",
    "        return 1 / (1 + np.exp(-x))\n",
    "    \n",
    "    def tanh(self, x):\n",
    "        return np.tanh(x)\n",
    "    \n",
    "    def forward(self, x):\n",
    "        z = np.dot(self.weight, x) + self.bias\n",
    "        return self.activation(z)\n",
    "\n",
    "\n",
    "\n"
   ]
  },
  {
   "cell_type": "code",
   "execution_count": 33,
   "id": "a6a07b7c-1e35-4515-b45f-1fc1f03b085d",
   "metadata": {},
   "outputs": [
    {
     "name": "stdin",
     "output_type": "stream",
     "text": [
      "Enter a value for input neuron 123\n"
     ]
    },
    {
     "name": "stdout",
     "output_type": "stream",
     "text": [
      "Random weight used :  [0.73719504]\n",
      "Random bias used :  -0.03340900682926052\n",
      "\n",
      "Random weight used :  [-1.0450632]\n",
      "Random bias used :  0.7951402007096341\n",
      "\n",
      "Random weight used :  [-0.18492737]\n",
      "Random bias used :  0.7843898361719115\n",
      "\n",
      "Linear Activation Output: 90.64158053984929\n",
      "Sigmoid Activation Output: 3.310608695867019e-56\n",
      "Tanh Activation Output: -1.0\n"
     ]
    }
   ],
   "source": [
    "a = float(input(\"Enter a value for input neuron\"))\n",
    "input_array = np.array([a])\n",
    "\n",
    "p_linear = Perceptron(activation='linear')\n",
    "p_sigmoid = Perceptron(activation='sigmoid')\n",
    "p_tanh = Perceptron(activation='tanh')\n",
    "\n",
    "output_linear = p_linear.forward(input_array)\n",
    "output_sigmoid = p_sigmoid.forward(input_array)\n",
    "output_tanh = p_tanh.forward(input_array)\n",
    "\n",
    "\n",
    "print(\"Linear Activation Output:\", output_linear)\n",
    "print(\"Sigmoid Activation Output:\", output_sigmoid)\n",
    "print(\"Tanh Activation Output:\", output_tanh)"
   ]
  },
  {
   "cell_type": "code",
   "execution_count": 34,
   "id": "ed63f835-bc87-4b40-9033-f0aa338ac10c",
   "metadata": {},
   "outputs": [
    {
     "data": {
      "image/png": "[encoded data removed]",
      "text/plain": [
       "<Figure size 600x400 with 1 Axes>"
      ]
     },
     "metadata": {},
     "output_type": "display_data"
    }
   ],
   "source": [
    "activations = ['Linear', 'Sigmoid', 'Tanh']\n",
    "outputs = [output_linear, output_sigmoid, output_tanh]\n",
    "\n",
    "\n",
    "plt.figure(figsize=(6, 4))\n",
    "plt.bar(activations, outputs, color=['red', 'skyblue', 'green'])\n",
    "plt.title(f'Perceptron Outputs for Input = {a}')\n",
    "plt.ylabel('Output Value')\n",
    "plt.show()"
   ]
  },
  {
   "cell_type": "code",
   "execution_count": null,
   "id": "6bd07b8d-b4cb-4ea5-8c4e-67f4a7b85b85",
   "metadata": {},
   "outputs": [],
   "source": []
  }
 ],
 "metadata": {
  "kernelspec": {
   "display_name": "Python 3 (ipykernel)",
   "language": "python",
   "name": "python3"
  },
  "language_info": {
   "codemirror_mode": {
    "name": "ipython",
    "version": 3
   },
   "file_extension": ".py",
   "mimetype": "text/x-python",
   "name": "python",
   "nbconvert_exporter": "python",
   "pygments_lexer": "ipython3",
   "version": "3.12.7"
  }
 },
 "nbformat": 4,
 "nbformat_minor": 5
}
